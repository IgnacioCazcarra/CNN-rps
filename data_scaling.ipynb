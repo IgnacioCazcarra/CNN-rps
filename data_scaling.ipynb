{
 "cells": [
  {
   "cell_type": "code",
   "execution_count": 11,
   "metadata": {},
   "outputs": [],
   "source": [
    "import numpy as np\n",
    "import cv2\n",
    "import os\n",
    "import matplotlib.pyplot as plt"
   ]
  },
  {
   "cell_type": "code",
   "execution_count": 12,
   "metadata": {},
   "outputs": [],
   "source": [
    "DIR = \"C:/rps-photos\"\n",
    "\n",
    "folders = ['rps-train-set','rps-test-set']\n",
    "\n",
    "classes = ['rock','paper','scissors']\n",
    "\n",
    "IMG_SIZE = 60"
   ]
  },
  {
   "cell_type": "code",
   "execution_count": 13,
   "metadata": {},
   "outputs": [],
   "source": [
    "def prepare_data():\n",
    "    training_data = []\n",
    "    test_data = []\n",
    "    for f in folders:\n",
    "        path = os.path.join(DIR, f)\n",
    "        for c in classes:\n",
    "            c_path = os.path.join(path, c)\n",
    "            for img in os.listdir(c_path):\n",
    "                try:\n",
    "                    image_array = cv2.imread(os.path.join(c_path,img), cv2.IMREAD_GRAYSCALE)\n",
    "                    new_array = cv2.resize(image_array, (IMG_SIZE,IMG_SIZE))\n",
    "                    if f==\"rps-train-set\":\n",
    "                        training_data.append([new_array,c])\n",
    "                    else:\n",
    "                        test_data.append([new_array,c])\n",
    "                except Exception as e:\n",
    "                    pass\n",
    "    return training_data, test_data\n",
    "                "
   ]
  },
  {
   "cell_type": "code",
   "execution_count": 14,
   "metadata": {},
   "outputs": [],
   "source": [
    "training_data, test_data = prepare_data()"
   ]
  },
  {
   "cell_type": "code",
   "execution_count": 16,
   "metadata": {},
   "outputs": [
    {
     "name": "stdout",
     "output_type": "stream",
     "text": [
      "2520\n",
      "372\n"
     ]
    }
   ],
   "source": [
    "print(len(training_data))\n",
    "print(len(test_data))"
   ]
  },
  {
   "cell_type": "code",
   "execution_count": 17,
   "metadata": {},
   "outputs": [],
   "source": [
    "import pickle"
   ]
  },
  {
   "cell_type": "code",
   "execution_count": 18,
   "metadata": {},
   "outputs": [],
   "source": [
    "pickle_out = open(\"training_data.pickle\", 'wb')\n",
    "pickle.dump(training_data, pickle_out)\n",
    "pickle_out.close()\n",
    "\n",
    "pickle_out = open(\"test_data.pickle\", 'wb')\n",
    "pickle.dump(test_data, pickle_out)\n",
    "pickle_out.close()"
   ]
  }
 ],
 "metadata": {
  "kernelspec": {
   "display_name": "Python 3",
   "language": "python",
   "name": "python3"
  },
  "language_info": {
   "codemirror_mode": {
    "name": "ipython",
    "version": 3
   },
   "file_extension": ".py",
   "mimetype": "text/x-python",
   "name": "python",
   "nbconvert_exporter": "python",
   "pygments_lexer": "ipython3",
   "version": "3.8.3"
  }
 },
 "nbformat": 4,
 "nbformat_minor": 4
}
